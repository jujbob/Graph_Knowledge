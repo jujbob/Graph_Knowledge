{
 "cells": [
  {
   "cell_type": "code",
   "execution_count": null,
   "id": "506df398",
   "metadata": {},
   "outputs": [],
   "source": [
    "from torch.optim import Adam\n",
    "\n",
    "from torchkge.evaluation import LinkPredictionEvaluator\n",
    "from torchkge.models import TransEModel\n",
    "from torchkge.utils.datasets import load_fb15k\n",
    "from torchkge.utils import Trainer, MarginLoss"
   ]
  },
  {
   "cell_type": "code",
   "execution_count": null,
   "id": "967f3113",
   "metadata": {},
   "outputs": [],
   "source": [
    "import pandas as pd\n",
    "import numpy as np\n",
    "import os\n",
    "\n",
    "from torchkge.models import ConvKBModel\n",
    "from torchkge.utils.datasets import load_fb15k\n",
    "import pickle \n",
    "from copy import deepcopy\n",
    "from tqdm import tqdm \n",
    "\n",
    "from torch import cuda\n",
    "from torch.optim import Adam\n",
    "\n",
    "from torchkge.sampling import BernoulliNegativeSampler\n",
    "from torchkge.utils import MarginLoss, DataLoader\n",
    "\n",
    "from tqdm.autonotebook import tqdm"
   ]
  },
  {
   "cell_type": "code",
   "execution_count": null,
   "id": "946c9d07",
   "metadata": {},
   "outputs": [],
   "source": [
    "os.environ['TF_CPP_MIN_LOG_LEVEL'] = '3'\n",
    "os.environ[\"CUDA_DEVICE_ORDER\"]=\"PCI_BUS_ID\"\n",
    "os.environ[\"CUDA_VISIBLE_DEVICES\"]=\"3\""
   ]
  },
  {
   "cell_type": "code",
   "execution_count": null,
   "id": "f0cdd3c8",
   "metadata": {},
   "outputs": [],
   "source": [
    "# Load dataset\n",
    "kg_train, _, _ = load_fb15k()"
   ]
  },
  {
   "cell_type": "code",
   "execution_count": null,
   "id": "73abe64d",
   "metadata": {},
   "outputs": [],
   "source": [
    "class Config:\n",
    "    kge_n_epoch = 100\n",
    "    kge_lr = 1e-4\n",
    "    kge_batch = 64\n",
    "    kge_margin = 0.5\n",
    "    kge_conv_size = 3"
   ]
  },
  {
   "cell_type": "code",
   "execution_count": null,
   "id": "5e7ee74c",
   "metadata": {},
   "outputs": [],
   "source": [
    "config = Config()\n",
    "margin = 0.5\n",
    "n_epochs = 1000\n",
    "emb_dim = 100\n",
    "lr = 0.0004\n",
    "b_size = 32768\n",
    "conv_size = 64"
   ]
  },
  {
   "cell_type": "code",
   "execution_count": null,
   "id": "93396906",
   "metadata": {},
   "outputs": [],
   "source": [
    "model = ConvKBModel(emb_dim, conv_size, kg_train.n_ent, kg_train.n_rel)\n",
    "criterion = MarginLoss(margin)\n",
    "\n",
    "# Move everything to CUDA if available\n",
    "if cuda.is_available():\n",
    "    cuda.empty_cache()\n",
    "    model.cuda()\n",
    "    criterion.cuda()\n",
    "\n",
    "# Define the torch optimizer to be used\n",
    "optimizer = Adam(model.parameters(), lr=lr, weight_decay=1e-5)\n",
    "\n",
    "sampler = BernoulliNegativeSampler(kg_train)\n",
    "dataloader = DataLoader(kg_train, batch_size=b_size, use_cuda='all')\n",
    "\n",
    "iterator = tqdm(range(n_epochs), unit='epoch')\n",
    "for epoch in iterator:\n",
    "    running_loss = 0.0\n",
    "    for i, batch in enumerate(dataloader):\n",
    "        h, t, r = batch[0], batch[1], batch[2]\n",
    "        n_h, n_t = sampler.corrupt_batch(h, t, r)\n",
    "\n",
    "        optimizer.zero_grad()\n",
    "\n",
    "        # forward + backward + optimize\n",
    "        pos, neg = model(h, t, r, n_h, n_t)\n",
    "        loss = criterion(pos, neg)\n",
    "        loss.backward()\n",
    "        optimizer.step()\n",
    "\n",
    "        running_loss += loss.item()\n",
    "    iterator.set_description(\n",
    "        'Epoch {} | mean loss: {:.5f}'.format(epoch + 1,\n",
    "                                              running_loss / len(dataloader)))\n",
    "\n",
    "model.normalize_parameters()"
   ]
  },
  {
   "cell_type": "code",
   "execution_count": null,
   "id": "1ec450dc",
   "metadata": {},
   "outputs": [],
   "source": [
    "model_convKB.scoring_function(3,7,7)"
   ]
  },
  {
   "cell_type": "code",
   "execution_count": null,
   "id": "4eae9565",
   "metadata": {},
   "outputs": [],
   "source": [
    "import torchkge\n",
    "import torch\n",
    "e1 = torch.LongTensor([10, 19])\n",
    "e2 = torch.LongTensor([997, 999])\n",
    "result = torchkge.inference.RelationInference(model_convKB, e1, e2, top_k=3)"
   ]
  },
  {
   "cell_type": "code",
   "execution_count": null,
   "id": "291527f1",
   "metadata": {},
   "outputs": [],
   "source": [
    "result.predictions"
   ]
  },
  {
   "cell_type": "code",
   "execution_count": null,
   "id": "d6a97485",
   "metadata": {},
   "outputs": [],
   "source": [
    "result.scores"
   ]
  },
  {
   "cell_type": "code",
   "execution_count": null,
   "id": "d23803b5",
   "metadata": {},
   "outputs": [],
   "source": [
    "kg.head_idx"
   ]
  },
  {
   "cell_type": "code",
   "execution_count": null,
   "id": "b640ef12",
   "metadata": {},
   "outputs": [],
   "source": [
    "kg.ent2ix"
   ]
  },
  {
   "cell_type": "code",
   "execution_count": null,
   "id": "fa49ef93",
   "metadata": {},
   "outputs": [],
   "source": []
  }
 ],
 "metadata": {
  "kernelspec": {
   "display_name": "Python 3.8.10 64-bit",
   "language": "python",
   "name": "python3"
  },
  "language_info": {
   "codemirror_mode": {
    "name": "ipython",
    "version": 3
   },
   "file_extension": ".py",
   "mimetype": "text/x-python",
   "name": "python",
   "nbconvert_exporter": "python",
   "pygments_lexer": "ipython3",
   "version": "3.8.10"
  },
  "vscode": {
   "interpreter": {
    "hash": "916dbcbb3f70747c44a77c7bcd40155683ae19c65e1c03b4aa3499c5328201f1"
   }
  }
 },
 "nbformat": 4,
 "nbformat_minor": 5
}
